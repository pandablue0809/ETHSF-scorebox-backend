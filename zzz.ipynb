{
 "cells": [
  {
   "cell_type": "code",
   "execution_count": 3,
   "metadata": {},
   "outputs": [],
   "source": [
    "import requests\n",
    "\n",
    "def covalent_bal_port(chain_id, eth_address, endpoints, api_key):\n",
    "    '''get balances or portfolio data'''\n",
    "    endpoint = f'/{str(chain_id)}/address/{eth_address}/{endpoints}/?key={api_key}'\n",
    "    url = 'https://api.covalenthq.com/v1' + endpoint\n",
    "    result = requests.get(url).json()\n",
    "    r = result['data']\n",
    "    return r"
   ]
  },
  {
   "cell_type": "code",
   "execution_count": null,
   "metadata": {},
   "outputs": [],
   "source": [
    "covalent_bal_port(1, '0x691C7c07A1B1698c56340d386d8cC7A823f6e2D8', 'balances_v2', 'ckey_98c15730241149ca8516c4736db')\n",
    "\n"
   ]
  }
 ],
 "metadata": {
  "kernelspec": {
   "display_name": "Python 3.9.7 ('ScoreBox': venv)",
   "language": "python",
   "name": "python3"
  },
  "language_info": {
   "codemirror_mode": {
    "name": "ipython",
    "version": 3
   },
   "file_extension": ".py",
   "mimetype": "text/x-python",
   "name": "python",
   "nbconvert_exporter": "python",
   "pygments_lexer": "ipython3",
   "version": "3.9.7"
  },
  "orig_nbformat": 4,
  "vscode": {
   "interpreter": {
    "hash": "2eb4e75c63b39bfbc7b7e5367ea84ea2c7f3daea653fd3574a5e2e0fd733510f"
   }
  }
 },
 "nbformat": 4,
 "nbformat_minor": 2
}
